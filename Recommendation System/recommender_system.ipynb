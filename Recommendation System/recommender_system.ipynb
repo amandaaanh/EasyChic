{
  "nbformat": 4,
  "nbformat_minor": 0,
  "metadata": {
    "colab": {
      "provenance": []
    },
    "kernelspec": {
      "name": "python3",
      "display_name": "Python 3"
    },
    "language_info": {
      "name": "python"
    }
  },
  "cells": [
    {
      "cell_type": "code",
      "execution_count": 1,
      "metadata": {
        "id": "WySuPgAYxdIo"
      },
      "outputs": [],
      "source": [
        "import pandas as pd\n",
        "import numpy as np\n",
        "import tensorflow as tf\n",
        "from sklearn.preprocessing import LabelEncoder\n",
        "from sklearn.model_selection import train_test_split\n",
        "from sklearn.metrics.pairwise import cosine_similarity"
      ]
    },
    {
      "cell_type": "code",
      "source": [
        "# Load dataset\n",
        "product_data = pd.read_csv('/content/product_data.csv')\n",
        "user_preferences = pd.read_csv('/content/user_preferences.csv')"
      ],
      "metadata": {
        "id": "AEusvrzsxmKy"
      },
      "execution_count": 2,
      "outputs": []
    },
    {
      "cell_type": "code",
      "source": [
        "# Merge product_data and user_preferences\n",
        "# data_merge = pd.merge(product_data, user_preferences, on=['Product_Colour', 'Product_Quality', 'Product_Size', 'Product_Thickness'])"
      ],
      "metadata": {
        "id": "efKreE61EhzI"
      },
      "execution_count": 3,
      "outputs": []
    },
    {
      "cell_type": "code",
      "source": [
        "# data_merge combines product_data and user_preferences\n",
        "# but we use a dummy dataset that has already adjusted its attributes because when combining product_data and user_preferences there are missing values.\n",
        "data_merge = pd.read_csv('/content/dummy.csv')\n",
        "data_merge = data_merge.drop(columns=['Product_Price', 'Product_Image'])"
      ],
      "metadata": {
        "id": "0E7B2aI0EiFe"
      },
      "execution_count": 4,
      "outputs": []
    },
    {
      "cell_type": "code",
      "source": [
        "data_merge.head()"
      ],
      "metadata": {
        "colab": {
          "base_uri": "https://localhost:8080/",
          "height": 206
        },
        "id": "rCGTKW2bL_vC",
        "outputId": "b29c928d-31c4-472c-9492-eee93e1db957"
      },
      "execution_count": 5,
      "outputs": [
        {
          "output_type": "execute_result",
          "data": {
            "text/plain": [
              "   Product_ID                          Product_Name Product_Colour  \\\n",
              "0           1   [Cotton Combed] Black T-Shirt S 20s          Black   \n",
              "1           1   [Cotton Combed] Black T-Shirt S 20s          Black   \n",
              "2           2    [Cotton Combed] Grey T-Shirt S 20s           Grey   \n",
              "3           3  [Cotton Combed] Maroon T-Shirt S 20s         Maroon   \n",
              "4           3  [Cotton Combed] Maroon T-Shirt S 20s         Maroon   \n",
              "\n",
              "  Product_Size Product_Quality Product_Thickness Customer_ID  \n",
              "0            S   Cotton Combed               20s       CS036  \n",
              "1            S   Cotton Combed                 0       CS014  \n",
              "2            S   Cotton Combed               20s       CS031  \n",
              "3            S   Cotton Combed               20s       CS036  \n",
              "4            S   Cotton Combed                 0       CS028  "
            ],
            "text/html": [
              "\n",
              "  <div id=\"df-028ca827-b278-41db-bf0f-4388fe93e159\">\n",
              "    <div class=\"colab-df-container\">\n",
              "      <div>\n",
              "<style scoped>\n",
              "    .dataframe tbody tr th:only-of-type {\n",
              "        vertical-align: middle;\n",
              "    }\n",
              "\n",
              "    .dataframe tbody tr th {\n",
              "        vertical-align: top;\n",
              "    }\n",
              "\n",
              "    .dataframe thead th {\n",
              "        text-align: right;\n",
              "    }\n",
              "</style>\n",
              "<table border=\"1\" class=\"dataframe\">\n",
              "  <thead>\n",
              "    <tr style=\"text-align: right;\">\n",
              "      <th></th>\n",
              "      <th>Product_ID</th>\n",
              "      <th>Product_Name</th>\n",
              "      <th>Product_Colour</th>\n",
              "      <th>Product_Size</th>\n",
              "      <th>Product_Quality</th>\n",
              "      <th>Product_Thickness</th>\n",
              "      <th>Customer_ID</th>\n",
              "    </tr>\n",
              "  </thead>\n",
              "  <tbody>\n",
              "    <tr>\n",
              "      <th>0</th>\n",
              "      <td>1</td>\n",
              "      <td>[Cotton Combed] Black T-Shirt S 20s</td>\n",
              "      <td>Black</td>\n",
              "      <td>S</td>\n",
              "      <td>Cotton Combed</td>\n",
              "      <td>20s</td>\n",
              "      <td>CS036</td>\n",
              "    </tr>\n",
              "    <tr>\n",
              "      <th>1</th>\n",
              "      <td>1</td>\n",
              "      <td>[Cotton Combed] Black T-Shirt S 20s</td>\n",
              "      <td>Black</td>\n",
              "      <td>S</td>\n",
              "      <td>Cotton Combed</td>\n",
              "      <td>0</td>\n",
              "      <td>CS014</td>\n",
              "    </tr>\n",
              "    <tr>\n",
              "      <th>2</th>\n",
              "      <td>2</td>\n",
              "      <td>[Cotton Combed] Grey T-Shirt S 20s</td>\n",
              "      <td>Grey</td>\n",
              "      <td>S</td>\n",
              "      <td>Cotton Combed</td>\n",
              "      <td>20s</td>\n",
              "      <td>CS031</td>\n",
              "    </tr>\n",
              "    <tr>\n",
              "      <th>3</th>\n",
              "      <td>3</td>\n",
              "      <td>[Cotton Combed] Maroon T-Shirt S 20s</td>\n",
              "      <td>Maroon</td>\n",
              "      <td>S</td>\n",
              "      <td>Cotton Combed</td>\n",
              "      <td>20s</td>\n",
              "      <td>CS036</td>\n",
              "    </tr>\n",
              "    <tr>\n",
              "      <th>4</th>\n",
              "      <td>3</td>\n",
              "      <td>[Cotton Combed] Maroon T-Shirt S 20s</td>\n",
              "      <td>Maroon</td>\n",
              "      <td>S</td>\n",
              "      <td>Cotton Combed</td>\n",
              "      <td>0</td>\n",
              "      <td>CS028</td>\n",
              "    </tr>\n",
              "  </tbody>\n",
              "</table>\n",
              "</div>\n",
              "      <button class=\"colab-df-convert\" onclick=\"convertToInteractive('df-028ca827-b278-41db-bf0f-4388fe93e159')\"\n",
              "              title=\"Convert this dataframe to an interactive table.\"\n",
              "              style=\"display:none;\">\n",
              "        \n",
              "  <svg xmlns=\"http://www.w3.org/2000/svg\" height=\"24px\"viewBox=\"0 0 24 24\"\n",
              "       width=\"24px\">\n",
              "    <path d=\"M0 0h24v24H0V0z\" fill=\"none\"/>\n",
              "    <path d=\"M18.56 5.44l.94 2.06.94-2.06 2.06-.94-2.06-.94-.94-2.06-.94 2.06-2.06.94zm-11 1L8.5 8.5l.94-2.06 2.06-.94-2.06-.94L8.5 2.5l-.94 2.06-2.06.94zm10 10l.94 2.06.94-2.06 2.06-.94-2.06-.94-.94-2.06-.94 2.06-2.06.94z\"/><path d=\"M17.41 7.96l-1.37-1.37c-.4-.4-.92-.59-1.43-.59-.52 0-1.04.2-1.43.59L10.3 9.45l-7.72 7.72c-.78.78-.78 2.05 0 2.83L4 21.41c.39.39.9.59 1.41.59.51 0 1.02-.2 1.41-.59l7.78-7.78 2.81-2.81c.8-.78.8-2.07 0-2.86zM5.41 20L4 18.59l7.72-7.72 1.47 1.35L5.41 20z\"/>\n",
              "  </svg>\n",
              "      </button>\n",
              "      \n",
              "  <style>\n",
              "    .colab-df-container {\n",
              "      display:flex;\n",
              "      flex-wrap:wrap;\n",
              "      gap: 12px;\n",
              "    }\n",
              "\n",
              "    .colab-df-convert {\n",
              "      background-color: #E8F0FE;\n",
              "      border: none;\n",
              "      border-radius: 50%;\n",
              "      cursor: pointer;\n",
              "      display: none;\n",
              "      fill: #1967D2;\n",
              "      height: 32px;\n",
              "      padding: 0 0 0 0;\n",
              "      width: 32px;\n",
              "    }\n",
              "\n",
              "    .colab-df-convert:hover {\n",
              "      background-color: #E2EBFA;\n",
              "      box-shadow: 0px 1px 2px rgba(60, 64, 67, 0.3), 0px 1px 3px 1px rgba(60, 64, 67, 0.15);\n",
              "      fill: #174EA6;\n",
              "    }\n",
              "\n",
              "    [theme=dark] .colab-df-convert {\n",
              "      background-color: #3B4455;\n",
              "      fill: #D2E3FC;\n",
              "    }\n",
              "\n",
              "    [theme=dark] .colab-df-convert:hover {\n",
              "      background-color: #434B5C;\n",
              "      box-shadow: 0px 1px 3px 1px rgba(0, 0, 0, 0.15);\n",
              "      filter: drop-shadow(0px 1px 2px rgba(0, 0, 0, 0.3));\n",
              "      fill: #FFFFFF;\n",
              "    }\n",
              "  </style>\n",
              "\n",
              "      <script>\n",
              "        const buttonEl =\n",
              "          document.querySelector('#df-028ca827-b278-41db-bf0f-4388fe93e159 button.colab-df-convert');\n",
              "        buttonEl.style.display =\n",
              "          google.colab.kernel.accessAllowed ? 'block' : 'none';\n",
              "\n",
              "        async function convertToInteractive(key) {\n",
              "          const element = document.querySelector('#df-028ca827-b278-41db-bf0f-4388fe93e159');\n",
              "          const dataTable =\n",
              "            await google.colab.kernel.invokeFunction('convertToInteractive',\n",
              "                                                     [key], {});\n",
              "          if (!dataTable) return;\n",
              "\n",
              "          const docLinkHtml = 'Like what you see? Visit the ' +\n",
              "            '<a target=\"_blank\" href=https://colab.research.google.com/notebooks/data_table.ipynb>data table notebook</a>'\n",
              "            + ' to learn more about interactive tables.';\n",
              "          element.innerHTML = '';\n",
              "          dataTable['output_type'] = 'display_data';\n",
              "          await google.colab.output.renderOutput(dataTable, element);\n",
              "          const docLink = document.createElement('div');\n",
              "          docLink.innerHTML = docLinkHtml;\n",
              "          element.appendChild(docLink);\n",
              "        }\n",
              "      </script>\n",
              "    </div>\n",
              "  </div>\n",
              "  "
            ]
          },
          "metadata": {},
          "execution_count": 5
        }
      ]
    },
    {
      "cell_type": "code",
      "source": [
        "data_merge.info()"
      ],
      "metadata": {
        "colab": {
          "base_uri": "https://localhost:8080/"
        },
        "id": "P-m53RDqMKQo",
        "outputId": "71071ed9-ac6a-4196-b590-9687243e8716"
      },
      "execution_count": 6,
      "outputs": [
        {
          "output_type": "stream",
          "name": "stdout",
          "text": [
            "<class 'pandas.core.frame.DataFrame'>\n",
            "RangeIndex: 451 entries, 0 to 450\n",
            "Data columns (total 7 columns):\n",
            " #   Column             Non-Null Count  Dtype \n",
            "---  ------             --------------  ----- \n",
            " 0   Product_ID         451 non-null    int64 \n",
            " 1   Product_Name       451 non-null    object\n",
            " 2   Product_Colour     451 non-null    object\n",
            " 3   Product_Size       451 non-null    object\n",
            " 4   Product_Quality    451 non-null    object\n",
            " 5   Product_Thickness  451 non-null    object\n",
            " 6   Customer_ID        451 non-null    object\n",
            "dtypes: int64(1), object(6)\n",
            "memory usage: 24.8+ KB\n"
          ]
        }
      ]
    },
    {
      "cell_type": "code",
      "source": [
        "# Encoding labels on category features\n",
        "encoder = LabelEncoder()\n",
        "data_merge['Product_Colour'] = encoder.fit_transform(data_merge['Product_Colour'])\n",
        "data_merge['Product_Quality'] = encoder.fit_transform(data_merge['Product_Quality'])\n",
        "data_merge['Product_Size'] = encoder.fit_transform(data_merge['Product_Size'])\n",
        "data_merge['Product_Thickness'] = encoder.fit_transform(data_merge['Product_Thickness'])"
      ],
      "metadata": {
        "id": "arNiztckxn7Q"
      },
      "execution_count": 7,
      "outputs": []
    },
    {
      "cell_type": "code",
      "source": [
        "data_merge.info()"
      ],
      "metadata": {
        "colab": {
          "base_uri": "https://localhost:8080/"
        },
        "id": "UmdcGnjjfh1w",
        "outputId": "7f75f3cf-54c5-4af6-eff1-08d46eeb0661"
      },
      "execution_count": 8,
      "outputs": [
        {
          "output_type": "stream",
          "name": "stdout",
          "text": [
            "<class 'pandas.core.frame.DataFrame'>\n",
            "RangeIndex: 451 entries, 0 to 450\n",
            "Data columns (total 7 columns):\n",
            " #   Column             Non-Null Count  Dtype \n",
            "---  ------             --------------  ----- \n",
            " 0   Product_ID         451 non-null    int64 \n",
            " 1   Product_Name       451 non-null    object\n",
            " 2   Product_Colour     451 non-null    int64 \n",
            " 3   Product_Size       451 non-null    int64 \n",
            " 4   Product_Quality    451 non-null    int64 \n",
            " 5   Product_Thickness  451 non-null    int64 \n",
            " 6   Customer_ID        451 non-null    object\n",
            "dtypes: int64(5), object(2)\n",
            "memory usage: 24.8+ KB\n"
          ]
        }
      ]
    },
    {
      "cell_type": "code",
      "source": [
        "data_merge.head()"
      ],
      "metadata": {
        "colab": {
          "base_uri": "https://localhost:8080/",
          "height": 206
        },
        "id": "GdPJOPcmzIEH",
        "outputId": "c3fad596-9d5e-4c93-b2c3-2a2a16f5881d"
      },
      "execution_count": 9,
      "outputs": [
        {
          "output_type": "execute_result",
          "data": {
            "text/plain": [
              "   Product_ID                          Product_Name  Product_Colour  \\\n",
              "0           1   [Cotton Combed] Black T-Shirt S 20s               0   \n",
              "1           1   [Cotton Combed] Black T-Shirt S 20s               0   \n",
              "2           2    [Cotton Combed] Grey T-Shirt S 20s               1   \n",
              "3           3  [Cotton Combed] Maroon T-Shirt S 20s               2   \n",
              "4           3  [Cotton Combed] Maroon T-Shirt S 20s               2   \n",
              "\n",
              "   Product_Size  Product_Quality  Product_Thickness Customer_ID  \n",
              "0             2                0                  1       CS036  \n",
              "1             2                0                  0       CS014  \n",
              "2             2                0                  1       CS031  \n",
              "3             2                0                  1       CS036  \n",
              "4             2                0                  0       CS028  "
            ],
            "text/html": [
              "\n",
              "  <div id=\"df-41a5cebf-efeb-45a4-bcdb-591da6610099\">\n",
              "    <div class=\"colab-df-container\">\n",
              "      <div>\n",
              "<style scoped>\n",
              "    .dataframe tbody tr th:only-of-type {\n",
              "        vertical-align: middle;\n",
              "    }\n",
              "\n",
              "    .dataframe tbody tr th {\n",
              "        vertical-align: top;\n",
              "    }\n",
              "\n",
              "    .dataframe thead th {\n",
              "        text-align: right;\n",
              "    }\n",
              "</style>\n",
              "<table border=\"1\" class=\"dataframe\">\n",
              "  <thead>\n",
              "    <tr style=\"text-align: right;\">\n",
              "      <th></th>\n",
              "      <th>Product_ID</th>\n",
              "      <th>Product_Name</th>\n",
              "      <th>Product_Colour</th>\n",
              "      <th>Product_Size</th>\n",
              "      <th>Product_Quality</th>\n",
              "      <th>Product_Thickness</th>\n",
              "      <th>Customer_ID</th>\n",
              "    </tr>\n",
              "  </thead>\n",
              "  <tbody>\n",
              "    <tr>\n",
              "      <th>0</th>\n",
              "      <td>1</td>\n",
              "      <td>[Cotton Combed] Black T-Shirt S 20s</td>\n",
              "      <td>0</td>\n",
              "      <td>2</td>\n",
              "      <td>0</td>\n",
              "      <td>1</td>\n",
              "      <td>CS036</td>\n",
              "    </tr>\n",
              "    <tr>\n",
              "      <th>1</th>\n",
              "      <td>1</td>\n",
              "      <td>[Cotton Combed] Black T-Shirt S 20s</td>\n",
              "      <td>0</td>\n",
              "      <td>2</td>\n",
              "      <td>0</td>\n",
              "      <td>0</td>\n",
              "      <td>CS014</td>\n",
              "    </tr>\n",
              "    <tr>\n",
              "      <th>2</th>\n",
              "      <td>2</td>\n",
              "      <td>[Cotton Combed] Grey T-Shirt S 20s</td>\n",
              "      <td>1</td>\n",
              "      <td>2</td>\n",
              "      <td>0</td>\n",
              "      <td>1</td>\n",
              "      <td>CS031</td>\n",
              "    </tr>\n",
              "    <tr>\n",
              "      <th>3</th>\n",
              "      <td>3</td>\n",
              "      <td>[Cotton Combed] Maroon T-Shirt S 20s</td>\n",
              "      <td>2</td>\n",
              "      <td>2</td>\n",
              "      <td>0</td>\n",
              "      <td>1</td>\n",
              "      <td>CS036</td>\n",
              "    </tr>\n",
              "    <tr>\n",
              "      <th>4</th>\n",
              "      <td>3</td>\n",
              "      <td>[Cotton Combed] Maroon T-Shirt S 20s</td>\n",
              "      <td>2</td>\n",
              "      <td>2</td>\n",
              "      <td>0</td>\n",
              "      <td>0</td>\n",
              "      <td>CS028</td>\n",
              "    </tr>\n",
              "  </tbody>\n",
              "</table>\n",
              "</div>\n",
              "      <button class=\"colab-df-convert\" onclick=\"convertToInteractive('df-41a5cebf-efeb-45a4-bcdb-591da6610099')\"\n",
              "              title=\"Convert this dataframe to an interactive table.\"\n",
              "              style=\"display:none;\">\n",
              "        \n",
              "  <svg xmlns=\"http://www.w3.org/2000/svg\" height=\"24px\"viewBox=\"0 0 24 24\"\n",
              "       width=\"24px\">\n",
              "    <path d=\"M0 0h24v24H0V0z\" fill=\"none\"/>\n",
              "    <path d=\"M18.56 5.44l.94 2.06.94-2.06 2.06-.94-2.06-.94-.94-2.06-.94 2.06-2.06.94zm-11 1L8.5 8.5l.94-2.06 2.06-.94-2.06-.94L8.5 2.5l-.94 2.06-2.06.94zm10 10l.94 2.06.94-2.06 2.06-.94-2.06-.94-.94-2.06-.94 2.06-2.06.94z\"/><path d=\"M17.41 7.96l-1.37-1.37c-.4-.4-.92-.59-1.43-.59-.52 0-1.04.2-1.43.59L10.3 9.45l-7.72 7.72c-.78.78-.78 2.05 0 2.83L4 21.41c.39.39.9.59 1.41.59.51 0 1.02-.2 1.41-.59l7.78-7.78 2.81-2.81c.8-.78.8-2.07 0-2.86zM5.41 20L4 18.59l7.72-7.72 1.47 1.35L5.41 20z\"/>\n",
              "  </svg>\n",
              "      </button>\n",
              "      \n",
              "  <style>\n",
              "    .colab-df-container {\n",
              "      display:flex;\n",
              "      flex-wrap:wrap;\n",
              "      gap: 12px;\n",
              "    }\n",
              "\n",
              "    .colab-df-convert {\n",
              "      background-color: #E8F0FE;\n",
              "      border: none;\n",
              "      border-radius: 50%;\n",
              "      cursor: pointer;\n",
              "      display: none;\n",
              "      fill: #1967D2;\n",
              "      height: 32px;\n",
              "      padding: 0 0 0 0;\n",
              "      width: 32px;\n",
              "    }\n",
              "\n",
              "    .colab-df-convert:hover {\n",
              "      background-color: #E2EBFA;\n",
              "      box-shadow: 0px 1px 2px rgba(60, 64, 67, 0.3), 0px 1px 3px 1px rgba(60, 64, 67, 0.15);\n",
              "      fill: #174EA6;\n",
              "    }\n",
              "\n",
              "    [theme=dark] .colab-df-convert {\n",
              "      background-color: #3B4455;\n",
              "      fill: #D2E3FC;\n",
              "    }\n",
              "\n",
              "    [theme=dark] .colab-df-convert:hover {\n",
              "      background-color: #434B5C;\n",
              "      box-shadow: 0px 1px 3px 1px rgba(0, 0, 0, 0.15);\n",
              "      filter: drop-shadow(0px 1px 2px rgba(0, 0, 0, 0.3));\n",
              "      fill: #FFFFFF;\n",
              "    }\n",
              "  </style>\n",
              "\n",
              "      <script>\n",
              "        const buttonEl =\n",
              "          document.querySelector('#df-41a5cebf-efeb-45a4-bcdb-591da6610099 button.colab-df-convert');\n",
              "        buttonEl.style.display =\n",
              "          google.colab.kernel.accessAllowed ? 'block' : 'none';\n",
              "\n",
              "        async function convertToInteractive(key) {\n",
              "          const element = document.querySelector('#df-41a5cebf-efeb-45a4-bcdb-591da6610099');\n",
              "          const dataTable =\n",
              "            await google.colab.kernel.invokeFunction('convertToInteractive',\n",
              "                                                     [key], {});\n",
              "          if (!dataTable) return;\n",
              "\n",
              "          const docLinkHtml = 'Like what you see? Visit the ' +\n",
              "            '<a target=\"_blank\" href=https://colab.research.google.com/notebooks/data_table.ipynb>data table notebook</a>'\n",
              "            + ' to learn more about interactive tables.';\n",
              "          element.innerHTML = '';\n",
              "          dataTable['output_type'] = 'display_data';\n",
              "          await google.colab.output.renderOutput(dataTable, element);\n",
              "          const docLink = document.createElement('div');\n",
              "          docLink.innerHTML = docLinkHtml;\n",
              "          element.appendChild(docLink);\n",
              "        }\n",
              "      </script>\n",
              "    </div>\n",
              "  </div>\n",
              "  "
            ]
          },
          "metadata": {},
          "execution_count": 9
        }
      ]
    },
    {
      "cell_type": "code",
      "source": [
        "# Split features and targets\n",
        "features = data_merge[['Product_Colour', 'Product_Quality', 'Product_Size', 'Product_Thickness']]\n",
        "target = encoder.fit_transform(data_merge['Product_Name'])"
      ],
      "metadata": {
        "id": "dZOS0fhAxpRi"
      },
      "execution_count": 10,
      "outputs": []
    },
    {
      "cell_type": "code",
      "source": [
        "# Splitting data into training and testing sets\n",
        "X_train, X_test, y_train, y_test = train_test_split(features, target, test_size=0.2, random_state=42)"
      ],
      "metadata": {
        "id": "I4vGdtUGZEjP"
      },
      "execution_count": 11,
      "outputs": []
    },
    {
      "cell_type": "code",
      "source": [
        "# Building a content-based recommendation model\n",
        "input_colour = tf.keras.Input(shape=(1,))\n",
        "input_quality = tf.keras.Input(shape=(1,))\n",
        "input_size = tf.keras.Input(shape=(1,))\n",
        "input_thickness = tf.keras.Input(shape=(1,))\n",
        "\n",
        "embedding_dim = 10\n",
        "\n",
        "embedding_colour = tf.keras.layers.Embedding(len(encoder.classes_), embedding_dim)(input_colour)\n",
        "embedding_quality = tf.keras.layers.Embedding(len(encoder.classes_), embedding_dim)(input_quality)\n",
        "embedding_size = tf.keras.layers.Embedding(len(encoder.classes_), embedding_dim)(input_size)\n",
        "embedding_thickness = tf.keras.layers.Embedding(len(encoder.classes_), embedding_dim)(input_thickness)\n",
        "\n",
        "flatten_colour = tf.keras.layers.Flatten()(embedding_colour)\n",
        "flatten_quality = tf.keras.layers.Flatten()(embedding_quality)\n",
        "flatten_size = tf.keras.layers.Flatten()(embedding_size)\n",
        "flatten_thickness = tf.keras.layers.Flatten()(embedding_thickness)\n",
        "\n",
        "concatenated = tf.keras.layers.Concatenate()([flatten_colour, flatten_quality, flatten_size, flatten_thickness])\n",
        "\n",
        "dense1 = tf.keras.layers.Dense(64, activation='relu')(concatenated)\n",
        "dense2 = tf.keras.layers.Dense(32, activation='relu')(dense1)\n",
        "output = tf.keras.layers.Dense(len(encoder.classes_), activation='softmax')(dense2)\n",
        "\n",
        "model = tf.keras.Model(inputs=[input_colour, input_quality, input_size, input_thickness], outputs=output)\n",
        "\n",
        "model.compile(loss='sparse_categorical_crossentropy', optimizer='adam', metrics=['accuracy'])"
      ],
      "metadata": {
        "id": "tFjuuSX1xrKr"
      },
      "execution_count": 12,
      "outputs": []
    },
    {
      "cell_type": "code",
      "source": [
        "# Training the model\n",
        "model.fit([X_train['Product_Colour'], X_train['Product_Quality'], X_train['Product_Size'], X_train['Product_Thickness']], y_train, epochs=50, verbose=1)"
      ],
      "metadata": {
        "colab": {
          "base_uri": "https://localhost:8080/"
        },
        "id": "J6t6TvWoxski",
        "outputId": "e7a7f848-d6fc-4f41-9e23-7bfd1ca56755"
      },
      "execution_count": 13,
      "outputs": [
        {
          "output_type": "stream",
          "name": "stdout",
          "text": [
            "Epoch 1/50\n",
            "12/12 [==============================] - 3s 7ms/step - loss: 5.0091 - accuracy: 0.0167\n",
            "Epoch 2/50\n",
            "12/12 [==============================] - 0s 9ms/step - loss: 4.9991 - accuracy: 0.0306\n",
            "Epoch 3/50\n",
            "12/12 [==============================] - 0s 7ms/step - loss: 4.9871 - accuracy: 0.0528\n",
            "Epoch 4/50\n",
            "12/12 [==============================] - 0s 5ms/step - loss: 4.9665 - accuracy: 0.0972\n",
            "Epoch 5/50\n",
            "12/12 [==============================] - 0s 5ms/step - loss: 4.9319 - accuracy: 0.0833\n",
            "Epoch 6/50\n",
            "12/12 [==============================] - 0s 6ms/step - loss: 4.8707 - accuracy: 0.0861\n",
            "Epoch 7/50\n",
            "12/12 [==============================] - 0s 6ms/step - loss: 4.7697 - accuracy: 0.0806\n",
            "Epoch 8/50\n",
            "12/12 [==============================] - 0s 8ms/step - loss: 4.6218 - accuracy: 0.0889\n",
            "Epoch 9/50\n",
            "12/12 [==============================] - 0s 7ms/step - loss: 4.4511 - accuracy: 0.0833\n",
            "Epoch 10/50\n",
            "12/12 [==============================] - 0s 7ms/step - loss: 4.2620 - accuracy: 0.1167\n",
            "Epoch 11/50\n",
            "12/12 [==============================] - 0s 5ms/step - loss: 4.0611 - accuracy: 0.1333\n",
            "Epoch 12/50\n",
            "12/12 [==============================] - 0s 5ms/step - loss: 3.8461 - accuracy: 0.1583\n",
            "Epoch 13/50\n",
            "12/12 [==============================] - 0s 4ms/step - loss: 3.6143 - accuracy: 0.1833\n",
            "Epoch 14/50\n",
            "12/12 [==============================] - 0s 7ms/step - loss: 3.3593 - accuracy: 0.2194\n",
            "Epoch 15/50\n",
            "12/12 [==============================] - 0s 8ms/step - loss: 3.1062 - accuracy: 0.3000\n",
            "Epoch 16/50\n",
            "12/12 [==============================] - 0s 8ms/step - loss: 2.8467 - accuracy: 0.3944\n",
            "Epoch 17/50\n",
            "12/12 [==============================] - 0s 5ms/step - loss: 2.5841 - accuracy: 0.4444\n",
            "Epoch 18/50\n",
            "12/12 [==============================] - 0s 5ms/step - loss: 2.3324 - accuracy: 0.4778\n",
            "Epoch 19/50\n",
            "12/12 [==============================] - 0s 9ms/step - loss: 2.0984 - accuracy: 0.5056\n",
            "Epoch 20/50\n",
            "12/12 [==============================] - 0s 4ms/step - loss: 1.8723 - accuracy: 0.6139\n",
            "Epoch 21/50\n",
            "12/12 [==============================] - 0s 5ms/step - loss: 1.6670 - accuracy: 0.6472\n",
            "Epoch 22/50\n",
            "12/12 [==============================] - 0s 7ms/step - loss: 1.4698 - accuracy: 0.7167\n",
            "Epoch 23/50\n",
            "12/12 [==============================] - 0s 5ms/step - loss: 1.3064 - accuracy: 0.7556\n",
            "Epoch 24/50\n",
            "12/12 [==============================] - 0s 4ms/step - loss: 1.1513 - accuracy: 0.7417\n",
            "Epoch 25/50\n",
            "12/12 [==============================] - 0s 5ms/step - loss: 1.0262 - accuracy: 0.7583\n",
            "Epoch 26/50\n",
            "12/12 [==============================] - 0s 8ms/step - loss: 0.9165 - accuracy: 0.7778\n",
            "Epoch 27/50\n",
            "12/12 [==============================] - 0s 5ms/step - loss: 0.8233 - accuracy: 0.7833\n",
            "Epoch 28/50\n",
            "12/12 [==============================] - 0s 4ms/step - loss: 0.7433 - accuracy: 0.7944\n",
            "Epoch 29/50\n",
            "12/12 [==============================] - 0s 7ms/step - loss: 0.6837 - accuracy: 0.8056\n",
            "Epoch 30/50\n",
            "12/12 [==============================] - 0s 9ms/step - loss: 0.6346 - accuracy: 0.8139\n",
            "Epoch 31/50\n",
            "12/12 [==============================] - 0s 8ms/step - loss: 0.5931 - accuracy: 0.8056\n",
            "Epoch 32/50\n",
            "12/12 [==============================] - 0s 8ms/step - loss: 0.5528 - accuracy: 0.8028\n",
            "Epoch 33/50\n",
            "12/12 [==============================] - 0s 11ms/step - loss: 0.5231 - accuracy: 0.8139\n",
            "Epoch 34/50\n",
            "12/12 [==============================] - 0s 10ms/step - loss: 0.5010 - accuracy: 0.8056\n",
            "Epoch 35/50\n",
            "12/12 [==============================] - 0s 8ms/step - loss: 0.4711 - accuracy: 0.8306\n",
            "Epoch 36/50\n",
            "12/12 [==============================] - 0s 6ms/step - loss: 0.4569 - accuracy: 0.8250\n",
            "Epoch 37/50\n",
            "12/12 [==============================] - 0s 10ms/step - loss: 0.4387 - accuracy: 0.8333\n",
            "Epoch 38/50\n",
            "12/12 [==============================] - 0s 6ms/step - loss: 0.4165 - accuracy: 0.8417\n",
            "Epoch 39/50\n",
            "12/12 [==============================] - 0s 8ms/step - loss: 0.4078 - accuracy: 0.8306\n",
            "Epoch 40/50\n",
            "12/12 [==============================] - 0s 10ms/step - loss: 0.3896 - accuracy: 0.8389\n",
            "Epoch 41/50\n",
            "12/12 [==============================] - 0s 10ms/step - loss: 0.3848 - accuracy: 0.8444\n",
            "Epoch 42/50\n",
            "12/12 [==============================] - 0s 8ms/step - loss: 0.3694 - accuracy: 0.8472\n",
            "Epoch 43/50\n",
            "12/12 [==============================] - 0s 9ms/step - loss: 0.3439 - accuracy: 0.8722\n",
            "Epoch 44/50\n",
            "12/12 [==============================] - 0s 12ms/step - loss: 0.3381 - accuracy: 0.8806\n",
            "Epoch 45/50\n",
            "12/12 [==============================] - 0s 14ms/step - loss: 0.3344 - accuracy: 0.8889\n",
            "Epoch 46/50\n",
            "12/12 [==============================] - 0s 13ms/step - loss: 0.3286 - accuracy: 0.8639\n",
            "Epoch 47/50\n",
            "12/12 [==============================] - 0s 8ms/step - loss: 0.3144 - accuracy: 0.8722\n",
            "Epoch 48/50\n",
            "12/12 [==============================] - 0s 10ms/step - loss: 0.3028 - accuracy: 0.9000\n",
            "Epoch 49/50\n",
            "12/12 [==============================] - 0s 9ms/step - loss: 0.2910 - accuracy: 0.8972\n",
            "Epoch 50/50\n",
            "12/12 [==============================] - 0s 14ms/step - loss: 0.2801 - accuracy: 0.8861\n"
          ]
        },
        {
          "output_type": "execute_result",
          "data": {
            "text/plain": [
              "<keras.callbacks.History at 0x7fc4dc6f1b10>"
            ]
          },
          "metadata": {},
          "execution_count": 13
        }
      ]
    },
    {
      "cell_type": "code",
      "source": [
        "desired_user_id = 'CS006'  # Replace with desired user ID\n",
        "\n",
        "for i, user_pref in data_merge.iterrows():\n",
        "    user_id = user_pref['Customer_ID']\n",
        "\n",
        "    if user_id == desired_user_id:\n",
        "        user_features = user_pref[['Product_Colour', 'Product_Quality', 'Product_Size', 'Product_Thickness']]\n",
        "\n",
        "        # Encode user features\n",
        "        encoded_features = encoder.fit_transform(user_features)\n",
        "\n",
        "        # Expand dimensions to match the model input shape\n",
        "        user_input = [np.expand_dims(encoded_features[j], axis=0) for j in range(len(encoded_features))]\n",
        "\n",
        "        # Predict the target probabilities for the user\n",
        "        user_probabilities = model.predict(user_input)\n",
        "\n",
        "        # Compute cosine similarity between user preferences and all product features\n",
        "        similarities = cosine_similarity(np.mean(user_probabilities, axis=0).reshape(1, -1), model.predict([X_test['Product_Colour'], X_test['Product_Quality'], X_test['Product_Size'], X_test['Product_Thickness']]))\n",
        "\n",
        "        # Get index of the most similar product\n",
        "        top_index = similarities[0].argsort()[-3:][::-1]\n",
        "\n",
        "        # Get the top product name\n",
        "        top_products = data_merge.loc[top_index, 'Product_Name']\n",
        "\n",
        "        print(f\"Top product for {user_id}: {top_products}\")\n",
        "        break"
      ],
      "metadata": {
        "colab": {
          "base_uri": "https://localhost:8080/"
        },
        "id": "nRkBRloOe6Bv",
        "outputId": "9271c8eb-b626-4ab3-b766-4bfa6f4bf417"
      },
      "execution_count": 14,
      "outputs": [
        {
          "output_type": "stream",
          "name": "stdout",
          "text": [
            "1/1 [==============================] - 0s 251ms/step\n",
            "3/3 [==============================] - 0s 5ms/step\n",
            "Top product for CS006: 62            [Spandex] Mustard T-Shirt S\n",
            "83     [Cotton Combed] Grey T-Shirt M 20s\n",
            "0     [Cotton Combed] Black T-Shirt S 20s\n",
            "Name: Product_Name, dtype: object\n"
          ]
        }
      ]
    },
    {
      "cell_type": "code",
      "source": [
        "keras_file = \"model.h5\"\n",
        "tf.keras.models.save_model(model, keras_file)\n",
        "converter = tf.lite.TFLiteConverter.from_keras_model(model)\n",
        "\n",
        "tflite_model = converter.convert()\n",
        "open(\"model.tflite\", \"wb\").write(tflite_model)"
      ],
      "metadata": {
        "colab": {
          "base_uri": "https://localhost:8080/"
        },
        "id": "sdm-oXdSi6c8",
        "outputId": "e4f7fabc-6a00-4f82-8bf8-70825a46bf10"
      },
      "execution_count": 15,
      "outputs": [
        {
          "output_type": "stream",
          "name": "stderr",
          "text": [
            "WARNING:absl:Found untraced functions such as _update_step_xla while saving (showing 1 of 1). These functions will not be directly callable after loading.\n"
          ]
        },
        {
          "output_type": "execute_result",
          "data": {
            "text/plain": [
              "67644"
            ]
          },
          "metadata": {},
          "execution_count": 15
        }
      ]
    }
  ]
}
